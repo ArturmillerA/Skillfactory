{
 "cells": [
  {
   "cell_type": "code",
   "execution_count": 1,
   "id": "222c93d0",
   "metadata": {},
   "outputs": [
    {
     "name": "stdout",
     "output_type": "stream",
     "text": [
      "Ваш алгоритм угадывает число в среднем за 5 попыток\n"
     ]
    },
    {
     "data": {
      "text/plain": [
       "5"
      ]
     },
     "execution_count": 1,
     "metadata": {},
     "output_type": "execute_result"
    }
   ],
   "source": [
    "import numpy as np\n",
    "\n",
    "def score_game_core (guessing_algorithm):\n",
    "    \n",
    "    '''Создаем массив чисел для угадывания. Проходясь по этому массиву вызываем функцию с алгоритмом нахождения заданного числа, которая возвращает число попыток угадывания. \n",
    "     Числа попыток заносим в список, по которому подсчитываем среднее кол-во использованных попыток по всем заганным числам'''\n",
    "        \n",
    "    attempts = [] # Создаем пустой список для хранения кол-ва попыток\n",
    "    random_array = np.random.randint(1, 101, size = 10000) # генерируем массив чисел для угадывания алгоритмом\n",
    "    \n",
    "    for i in random_array: # пробегаемся по всему массиву\n",
    "        attempts.append(guessing_algorithm(i)) # вызываем функцию с алгоритмом нахождения очередного заданного числа и добавлям в список количество потребовавшися попыток\n",
    "    \n",
    "    score = int(np.mean(attempts)) # подсчитываем среднее кол-во попыток\n",
    "    \n",
    "    print(f\"Ваш алгоритм угадывает число в среднем за {score} попыток\") #\n",
    "    return score # возвращаем среднее кол-во попыток (зачем?)\n",
    "\n",
    "def guessing_algorithm_v3(number):\n",
    "    \n",
    "    '''Находим середину заданого диапазона, а затем в зависимости от того больше или меньше загаданное число меняем границы диапазона\n",
    "    уменьшая его в 2 раза. Повторяем до тем пор пока не обнаружим загаданное число\"\n",
    "    '''\n",
    "    \n",
    "    attempt = 1 # Счетчик попыток (присваевается еденица на случай если загаданное число равно 50)\n",
    "    start = 0 # Изначальное начало диапазона\n",
    "    end = 100 # Изначальное начало диапазона\n",
    "    predict = int((start + end)/2) # Подсчитываем \"середину\" диапазона, от которого впоследствии будем брать или нижнюю или верьнюю части\n",
    "    \n",
    "    while number != predict: # Пока не обнаружим загадонное число\n",
    "        attempt+=1 # Увеличиваем счетчик попыток\n",
    "       \n",
    "        if number > predict: # Если загаданное число больше \"середины\" - подтягиваем нижнюю границу диапазона\n",
    "            start = predict + 1\n",
    "        elif number < predict: # Если загаданное число меньше \"середины\" - подтягиваем верьнюю границу диапазона\n",
    "            end = predict - 1\n",
    "        \n",
    "        predict = int((start + end)/2) # Пересчитываем \"середину\" нового диапазана \n",
    "    \n",
    "    return(attempt) # выход из цикла, если угадали\n",
    "\n",
    "score_game_core(guessing_algorithm_v3) # вызываем основную функция игры\n"
   ]
  },
  {
   "cell_type": "code",
   "execution_count": null,
   "id": "2361717d",
   "metadata": {},
   "outputs": [],
   "source": []
  }
 ],
 "metadata": {
  "kernelspec": {
   "display_name": "Python 3",
   "language": "python",
   "name": "python3"
  },
  "language_info": {
   "codemirror_mode": {
    "name": "ipython",
    "version": 3
   },
   "file_extension": ".py",
   "mimetype": "text/x-python",
   "name": "python",
   "nbconvert_exporter": "python",
   "pygments_lexer": "ipython3",
   "version": "3.8.8"
  }
 },
 "nbformat": 4,
 "nbformat_minor": 5
}
