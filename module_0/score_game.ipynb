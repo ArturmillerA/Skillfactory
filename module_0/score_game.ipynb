{
 "cells": [
  {
   "cell_type": "code",
   "execution_count": 2,
   "id": "200a6e69",
   "metadata": {},
   "outputs": [
    {
     "name": "stdout",
     "output_type": "stream",
     "text": [
      "Ваш алгоритм угадывает число в среднем за 5 попыток\n"
     ]
    },
    {
     "data": {
      "text/plain": [
       "5"
      ]
     },
     "execution_count": 2,
     "metadata": {},
     "output_type": "execute_result"
    }
   ],
   "source": [
    "import numpy as np\n",
    "\n",
    "def score_game_core (guessing_algorithm):\n",
    "    '''Создаем массив чисел для угадывания. Проходясь по этому массиву вызываем \n",
    "    функцию с алгоритмом нахождения заданного числа, которая возвращает число \n",
    "    попыток угадывания. Числа попыток заносим в список, по которому подсчитываем \n",
    "    среднее кол-во использованных попыток по всем заганным числам'''\n",
    "    \n",
    "    attempts=[] # создаем пустой список для хранения кол-ва попыток\n",
    "    random_array=np.random.randint(1, 101, size=10000) # генерируем массив чисел\n",
    "\n",
    "    for i in random_array: # пробегаемся по всему массиву\n",
    "        \n",
    "        # вызываем функцию с алгоритмом нахождения заданного числа и добавлям \n",
    "        # в список количество потребовавшися попыток\n",
    "        attempts.append(guessing_algorithm(i)) \n",
    "    \n",
    "    score = int(np.mean(attempts)) # подсчитываем среднее кол-во попыток\n",
    "    \n",
    "    print(f\"Ваш алгоритм угадывает число в среднем за {score} попыток\") #\n",
    "    return score # возвращаем среднее кол-во попыток\n",
    "\n",
    "def guessing_algorithm_v3(number):\n",
    "    \n",
    "    '''Находим середину заданого диапазона, а затем в зависимости от того больше\n",
    "    или меньше загаданное число меняем границы диапазона уменьшая его в 2 раза. \n",
    "    Повторяем до тем пор пока не обнаружим загаданное число\"\n",
    "    '''\n",
    "    \n",
    "    attempt=1 # счетчик попыток (присваевается еденица на случай если загаданное число равно 50)\n",
    "    start=0 # изначальное начало диапазона\n",
    "    end=100 # изначальное начало диапазона\n",
    "    predict=int((start+end)/2) # подсчитываем \"середину\" диапазона\n",
    "    \n",
    "    while number!=predict: # Пока не обнаружим загадонное число\n",
    "        attempt+=1 # Увеличиваем счетчик попыток\n",
    "     \n",
    "        # Если загаданное число больше \"середины\" - подтягиваем нижнюю границу диапазона\n",
    "        if number>predict: \n",
    "            start=predict+1\n",
    "            \n",
    "        # Если загаданное число меньше \"середины\" - подтягиваем верьнюю границу диапазона    \n",
    "        elif number < predict:\n",
    "            end=predict-1\n",
    "        \n",
    "        predict=int((start+end)/2) # Пересчитываем \"середину\" нового диапазана \n",
    "    \n",
    "    return(attempt) # выход из цикла, если угадали\n",
    "\n",
    "score_game_core(guessing_algorithm_v3) # вызываем основную функция игры\n"
   ]
  },
  {
   "cell_type": "code",
   "execution_count": null,
   "id": "8b9647b0",
   "metadata": {},
   "outputs": [],
   "source": []
  }
 ],
 "metadata": {
  "kernelspec": {
   "display_name": "Python 3",
   "language": "python",
   "name": "python3"
  },
  "language_info": {
   "codemirror_mode": {
    "name": "ipython",
    "version": 3
   },
   "file_extension": ".py",
   "mimetype": "text/x-python",
   "name": "python",
   "nbconvert_exporter": "python",
   "pygments_lexer": "ipython3",
   "version": "3.8.8"
  }
 },
 "nbformat": 4,
 "nbformat_minor": 5
}
