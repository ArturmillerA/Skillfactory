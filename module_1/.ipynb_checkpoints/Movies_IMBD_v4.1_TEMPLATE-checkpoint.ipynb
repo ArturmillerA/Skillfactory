{
 "cells": [
  {
   "cell_type": "code",
   "execution_count": 1,
   "metadata": {
    "_cell_guid": "b1076dfc-b9ad-4769-8c92-a6c4dae69d19",
    "_uuid": "8f2839f25d086af736a60e9eeb907d3b93b6e0e5",
    "colab": {},
    "colab_type": "code",
    "id": "U2D2gTdJVp90"
   },
   "outputs": [],
   "source": [
    "import numpy as np\n",
    "import pandas as pd\n",
    "import seaborn as sns\n",
    "import matplotlib.pyplot as plt\n",
    "from collections import Counter\n",
    "import itertools\n"
   ]
  },
  {
   "cell_type": "code",
   "execution_count": 2,
   "metadata": {
    "_cell_guid": "79c7e3d0-c299-4dcb-8224-4455121ee9b0",
    "_uuid": "d629ff2d2480ee46fbb7e2d37f6b5fab8052498a",
    "colab": {},
    "colab_type": "code",
    "id": "oyGfxL3eVp9-"
   },
   "outputs": [],
   "source": [
    "data = pd.read_csv('movie_bd_v5.csv') # oткрываем источник данных"
   ]
  },
  {
   "cell_type": "code",
   "execution_count": 3,
   "metadata": {
    "colab": {},
    "colab_type": "code",
    "id": "CoYUnagMVp-C"
   },
   "outputs": [
    {
     "data": {
      "text/html": [
       "<div>\n",
       "<style scoped>\n",
       "    .dataframe tbody tr th:only-of-type {\n",
       "        vertical-align: middle;\n",
       "    }\n",
       "\n",
       "    .dataframe tbody tr th {\n",
       "        vertical-align: top;\n",
       "    }\n",
       "\n",
       "    .dataframe thead th {\n",
       "        text-align: right;\n",
       "    }\n",
       "</style>\n",
       "<table border=\"1\" class=\"dataframe\">\n",
       "  <thead>\n",
       "    <tr style=\"text-align: right;\">\n",
       "      <th></th>\n",
       "      <th>budget</th>\n",
       "      <th>revenue</th>\n",
       "      <th>runtime</th>\n",
       "      <th>vote_average</th>\n",
       "      <th>release_year</th>\n",
       "    </tr>\n",
       "  </thead>\n",
       "  <tbody>\n",
       "    <tr>\n",
       "      <th>count</th>\n",
       "      <td>1889.00</td>\n",
       "      <td>1889.00</td>\n",
       "      <td>1889.00</td>\n",
       "      <td>1889.00</td>\n",
       "      <td>1889.00</td>\n",
       "    </tr>\n",
       "    <tr>\n",
       "      <th>mean</th>\n",
       "      <td>54310829.64</td>\n",
       "      <td>155365321.08</td>\n",
       "      <td>109.66</td>\n",
       "      <td>6.14</td>\n",
       "      <td>2007.86</td>\n",
       "    </tr>\n",
       "    <tr>\n",
       "      <th>std</th>\n",
       "      <td>48587207.45</td>\n",
       "      <td>214669813.15</td>\n",
       "      <td>18.02</td>\n",
       "      <td>0.76</td>\n",
       "      <td>4.47</td>\n",
       "    </tr>\n",
       "    <tr>\n",
       "      <th>min</th>\n",
       "      <td>5000000.00</td>\n",
       "      <td>2033165.00</td>\n",
       "      <td>63.00</td>\n",
       "      <td>3.30</td>\n",
       "      <td>2000.00</td>\n",
       "    </tr>\n",
       "    <tr>\n",
       "      <th>25%</th>\n",
       "      <td>20000000.00</td>\n",
       "      <td>34560577.00</td>\n",
       "      <td>97.00</td>\n",
       "      <td>5.60</td>\n",
       "      <td>2004.00</td>\n",
       "    </tr>\n",
       "    <tr>\n",
       "      <th>50%</th>\n",
       "      <td>38000000.00</td>\n",
       "      <td>83615414.00</td>\n",
       "      <td>107.00</td>\n",
       "      <td>6.10</td>\n",
       "      <td>2008.00</td>\n",
       "    </tr>\n",
       "    <tr>\n",
       "      <th>75%</th>\n",
       "      <td>72000000.00</td>\n",
       "      <td>178262620.00</td>\n",
       "      <td>120.00</td>\n",
       "      <td>6.60</td>\n",
       "      <td>2012.00</td>\n",
       "    </tr>\n",
       "    <tr>\n",
       "      <th>max</th>\n",
       "      <td>380000000.00</td>\n",
       "      <td>2781505847.00</td>\n",
       "      <td>214.00</td>\n",
       "      <td>8.10</td>\n",
       "      <td>2015.00</td>\n",
       "    </tr>\n",
       "  </tbody>\n",
       "</table>\n",
       "</div>"
      ],
      "text/plain": [
       "            budget       revenue  runtime  vote_average  release_year\n",
       "count      1889.00       1889.00  1889.00       1889.00       1889.00\n",
       "mean   54310829.64  155365321.08   109.66          6.14       2007.86\n",
       "std    48587207.45  214669813.15    18.02          0.76          4.47\n",
       "min     5000000.00    2033165.00    63.00          3.30       2000.00\n",
       "25%    20000000.00   34560577.00    97.00          5.60       2004.00\n",
       "50%    38000000.00   83615414.00   107.00          6.10       2008.00\n",
       "75%    72000000.00  178262620.00   120.00          6.60       2012.00\n",
       "max   380000000.00 2781505847.00   214.00          8.10       2015.00"
      ]
     },
     "execution_count": 3,
     "metadata": {},
     "output_type": "execute_result"
    }
   ],
   "source": [
    "pd.set_option('display.float_format', '{:.2f}'.format) # устанавлиеваем удобный вывод десятичных цифр\n",
    "data.describe()"
   ]
  },
  {
   "cell_type": "markdown",
   "metadata": {
    "colab_type": "text",
    "id": "DTIt7ezGVp-G"
   },
   "source": [
    "# Предобработка"
   ]
  },
  {
   "cell_type": "code",
   "execution_count": 4,
   "metadata": {
    "colab": {},
    "colab_type": "code",
    "id": "jNb40DwKVp-H"
   },
   "outputs": [],
   "source": [
    "answers = {} # создадим словарь для ответов\n",
    "genres = {} # создадим словарь для подсчета жанров\n",
    "\n",
    "\n",
    "data['profit'] = data['revenue']-data['budget'] # создадим колонку с прибылью\n",
    "\n",
    "\n",
    "\n",
    "\n"
   ]
  },
  {
   "cell_type": "markdown",
   "metadata": {
    "colab_type": "text",
    "id": "YxZaH-nPVp-L"
   },
   "source": [
    "# 1. У какого фильма из списка самый большой бюджет?"
   ]
  },
  {
   "cell_type": "markdown",
   "metadata": {
    "colab_type": "text",
    "id": "Nd-G5gX6Vp-M"
   },
   "source": [
    "Использовать варианты ответов в коде решения запрещено.    \n",
    "Вы думаете и в жизни у вас будут варианты ответов?)"
   ]
  },
  {
   "cell_type": "code",
   "execution_count": 5,
   "metadata": {
    "colab": {},
    "colab_type": "code",
    "id": "uVnXAY5RVp-O"
   },
   "outputs": [],
   "source": [
    "answers ['1'] = \"Pirates of the Caribbean: On Stranger Tides  (tt1298650)\" "
   ]
  },
  {
   "cell_type": "code",
   "execution_count": 6,
   "metadata": {
    "colab": {},
    "colab_type": "code",
    "id": "dZwb3m28Vp-S"
   },
   "outputs": [
    {
     "name": "stdout",
     "output_type": "stream",
     "text": [
      "Pirates of the Caribbean: On Stranger Tides  (tt1298650)\n"
     ]
    }
   ],
   "source": [
    "# фильтруем записи с максимальным бюджетом и берем 'верхнюю' позицию (0 и 3 столбцы содержат название и ID фильма)\n",
    "print(data[data['budget'] == data['budget'].max()].iloc[0,3]+\"  ({})\".format(data[data['budget'] ==\\\n",
    "    data['budget'].max()].iloc[0,0]))"
   ]
  },
  {
   "cell_type": "markdown",
   "metadata": {
    "colab_type": "text",
    "id": "K7L3nbRXVp-X"
   },
   "source": [
    "ВАРИАНТ 2"
   ]
  },
  {
   "cell_type": "code",
   "execution_count": 7,
   "metadata": {
    "colab": {},
    "colab_type": "code",
    "id": "OGaoQI7rVp-X"
   },
   "outputs": [],
   "source": [
    "# можно добавлять разные варианты решения"
   ]
  },
  {
   "cell_type": "markdown",
   "metadata": {
    "colab_type": "text",
    "id": "FNRbbI3vVp-c"
   },
   "source": [
    "# 2. Какой из фильмов самый длительный (в минутах)?"
   ]
  },
  {
   "cell_type": "code",
   "execution_count": 8,
   "metadata": {
    "colab": {},
    "colab_type": "code",
    "id": "vHAoEXNTVp-d"
   },
   "outputs": [],
   "source": [
    "answers['2'] = 'Gods and Generals  (tt0279111)'"
   ]
  },
  {
   "cell_type": "code",
   "execution_count": 9,
   "metadata": {
    "colab": {},
    "colab_type": "code",
    "id": "ot-VX2XrVp-g"
   },
   "outputs": [
    {
     "data": {
      "text/plain": [
       "'Gods and Generals  (tt0279111)'"
      ]
     },
     "execution_count": 9,
     "metadata": {},
     "output_type": "execute_result"
    }
   ],
   "source": [
    "# фильтруем записи с максимальной длительносьтю и берем 'верхнюю' позицию (0 и 3 столбцы содержат название и ID фильма)\n",
    "data[data['runtime']==data['runtime'].max()].iloc[0][3]+'  ({})'.format(data[data['runtime']==\\\n",
    "    data['runtime'].max()].iloc[0][0])"
   ]
  },
  {
   "cell_type": "markdown",
   "metadata": {
    "colab_type": "text",
    "id": "bapLlpW8Vp-k"
   },
   "source": [
    "# 3. Какой из фильмов самый короткий (в минутах)?\n",
    "\n",
    "\n",
    "\n"
   ]
  },
  {
   "cell_type": "code",
   "execution_count": 10,
   "metadata": {
    "colab": {},
    "colab_type": "code",
    "id": "YBxaSHuAVp-l"
   },
   "outputs": [],
   "source": [
    "answers['3']= 'Winnie the Pooh  (tt1449283)'"
   ]
  },
  {
   "cell_type": "code",
   "execution_count": 11,
   "metadata": {},
   "outputs": [
    {
     "data": {
      "text/plain": [
       "'Winnie the Pooh  (tt1449283)'"
      ]
     },
     "execution_count": 11,
     "metadata": {},
     "output_type": "execute_result"
    }
   ],
   "source": [
    "# фильтруем записи с максимально короткой длительносьтю и берем 'верхнюю' позицию (0 и 3 столбцы содержат название и ID фильма)\n",
    "data[data['runtime']==data['runtime'].min()].iloc[0][3]+'  ({})'.format(data[data['runtime']==data['runtime'].min()].iloc[0][0])"
   ]
  },
  {
   "cell_type": "markdown",
   "metadata": {
    "colab_type": "text",
    "id": "TfQbxbfNVp-p"
   },
   "source": [
    "# 4. Какова средняя длительность фильмов?\n"
   ]
  },
  {
   "cell_type": "code",
   "execution_count": 12,
   "metadata": {
    "colab": {},
    "colab_type": "code",
    "id": "5K6dKZYVVp-q"
   },
   "outputs": [],
   "source": [
    "answers['4']= 109.6585494970884"
   ]
  },
  {
   "cell_type": "code",
   "execution_count": 13,
   "metadata": {},
   "outputs": [
    {
     "data": {
      "text/plain": [
       "109.6585494970884"
      ]
     },
     "execution_count": 13,
     "metadata": {},
     "output_type": "execute_result"
    }
   ],
   "source": [
    "# считаем среднее по столбцу\n",
    "data['runtime'].mean()"
   ]
  },
  {
   "cell_type": "markdown",
   "metadata": {
    "colab_type": "text",
    "id": "r5TvbnT_Vp-u"
   },
   "source": [
    "# 5. Каково медианное значение длительности фильмов? "
   ]
  },
  {
   "cell_type": "code",
   "execution_count": 14,
   "metadata": {},
   "outputs": [],
   "source": [
    "answers['5']= 107.0"
   ]
  },
  {
   "cell_type": "code",
   "execution_count": 15,
   "metadata": {
    "colab": {},
    "colab_type": "code",
    "id": "iBROplKnVp-v"
   },
   "outputs": [
    {
     "data": {
      "text/plain": [
       "107.0"
      ]
     },
     "execution_count": 15,
     "metadata": {},
     "output_type": "execute_result"
    }
   ],
   "source": [
    "# считаем медиану по столбцу\n",
    "data['runtime'].median()"
   ]
  },
  {
   "cell_type": "markdown",
   "metadata": {
    "colab_type": "text",
    "id": "39P-deDSVp-y"
   },
   "source": [
    "# 6. Какой самый прибыльный фильм?\n",
    "#### Внимание! Здесь и далее под «прибылью» или «убытками» понимается разность между сборами и бюджетом фильма. (прибыль = сборы - бюджет) в нашем датасете это будет (profit = revenue - budget) "
   ]
  },
  {
   "cell_type": "code",
   "execution_count": 16,
   "metadata": {
    "colab": {},
    "colab_type": "code",
    "id": "UYZh4T9WVp-y"
   },
   "outputs": [],
   "source": [
    "answers['6']= 'Avatar (tt0499549)'"
   ]
  },
  {
   "cell_type": "code",
   "execution_count": 17,
   "metadata": {},
   "outputs": [
    {
     "data": {
      "text/plain": [
       "'Avatar (tt0499549)'"
      ]
     },
     "execution_count": 17,
     "metadata": {},
     "output_type": "execute_result"
    }
   ],
   "source": [
    "# сортируем таблицу по убыванию прибыли и берем 'верхнюю' позицию (0 и 3 столбцы содержат название и ID фильма)\n",
    "data.sort_values(['profit'],ascending=False).iloc[0][3] +\" ({})\".format(data.sort_values(['profit'],ascending=False).iloc[0][0])"
   ]
  },
  {
   "cell_type": "markdown",
   "metadata": {
    "colab_type": "text",
    "id": "M99JmIX4Vp-2"
   },
   "source": [
    "# 7. Какой фильм самый убыточный? "
   ]
  },
  {
   "cell_type": "code",
   "execution_count": 18,
   "metadata": {
    "colab": {},
    "colab_type": "code",
    "id": "w-D2m4XPVp-3"
   },
   "outputs": [],
   "source": [
    "answers['7']= 'The Lone Ranger (tt1210819)'"
   ]
  },
  {
   "cell_type": "code",
   "execution_count": 19,
   "metadata": {},
   "outputs": [
    {
     "name": "stdout",
     "output_type": "stream",
     "text": [
      "The Lone Ranger (tt1210819)\n"
     ]
    }
   ],
   "source": [
    "# сортируем таблицу по возростанию прибыли и берем 'верхнюю' позицию (0 и 3 столбцы содержат название и ID фильма)\n",
    "\n",
    "print (data.sort_values(['profit'],ascending=True).iloc[0,3] +\" ({})\".format(data.sort_values(['profit'],\\\n",
    "    ascending=True).iloc[0,0]))"
   ]
  },
  {
   "cell_type": "markdown",
   "metadata": {
    "colab_type": "text",
    "id": "wEOM5ERVVp-6"
   },
   "source": [
    "# 8. У скольких фильмов из датасета объем сборов оказался выше бюджета?"
   ]
  },
  {
   "cell_type": "code",
   "execution_count": 20,
   "metadata": {},
   "outputs": [],
   "source": [
    "answers['8']= 1478"
   ]
  },
  {
   "cell_type": "code",
   "execution_count": 21,
   "metadata": {
    "colab": {},
    "colab_type": "code",
    "id": "y00_7HD6Vp-7"
   },
   "outputs": [
    {
     "data": {
      "text/plain": [
       "1478"
      ]
     },
     "execution_count": 21,
     "metadata": {},
     "output_type": "execute_result"
    }
   ],
   "source": [
    "# фильтруем данные по столбцу пробыли\n",
    "len(data[data['profit']>0])"
   ]
  },
  {
   "cell_type": "markdown",
   "metadata": {
    "colab_type": "text",
    "id": "xhpspA9KVp_A"
   },
   "source": [
    "# 9. Какой фильм оказался самым кассовым в 2008 году?"
   ]
  },
  {
   "cell_type": "code",
   "execution_count": 22,
   "metadata": {},
   "outputs": [],
   "source": [
    "answers['9']= \"The Dark Knight  (tt0468569)\""
   ]
  },
  {
   "cell_type": "code",
   "execution_count": 23,
   "metadata": {
    "colab": {},
    "colab_type": "code",
    "id": "MoUyQr9RVp_B"
   },
   "outputs": [
    {
     "name": "stdout",
     "output_type": "stream",
     "text": [
      "The Dark Knight  (tt0468569)\n"
     ]
    }
   ],
   "source": [
    "# фильтруем данные по годы, сортируем результат по выручке по убыванию, берем 'верхнюю' позицию \n",
    "#(0 и 3 столбцы содержат название и ID фильма)\n",
    "print(data[data['release_year']==2008].sort_values(['revenue'], ascending = False).iloc[0,3] +\\\n",
    "    \"  ({})\".format(data[data['release_year']==2008].sort_values(['revenue'], ascending = False).iloc[0,0]))"
   ]
  },
  {
   "cell_type": "markdown",
   "metadata": {
    "colab_type": "text",
    "id": "Zi4hDKidVp_F"
   },
   "source": [
    "# 10. Самый убыточный фильм за период с 2012 по 2014 г. (включительно)?\n"
   ]
  },
  {
   "cell_type": "code",
   "execution_count": 24,
   "metadata": {},
   "outputs": [],
   "source": [
    "answers['10']= \"The Lone Ranger  (tt1210819)\""
   ]
  },
  {
   "cell_type": "code",
   "execution_count": 25,
   "metadata": {
    "colab": {},
    "colab_type": "code",
    "id": "XqyRmufJVp_F"
   },
   "outputs": [
    {
     "name": "stdout",
     "output_type": "stream",
     "text": [
      "The Lone Ranger  (tt1210819)\n"
     ]
    }
   ],
   "source": [
    "# фильтруем данные по годам, сортируем результат по выручке по возрастанию, берем 'верхнюю' позицию \n",
    "#(0 и 3 столбцы содержат название и ID фильма)\n",
    "\n",
    "print(data[(data['release_year']>2011)&(data['release_year']<2015)].sort_values(['profit'], ascending = True).iloc[0,3]+\\\n",
    "    \"  ({})\".format(data[(data['release_year']>2011)&(data['release_year']<2015)].sort_values(['profit'],ascending = True).iloc[0,0]))"
   ]
  },
  {
   "cell_type": "markdown",
   "metadata": {
    "colab_type": "text",
    "id": "EA7Sa9dkVp_I"
   },
   "source": [
    "# 11. Какого жанра фильмов больше всего?"
   ]
  },
  {
   "cell_type": "code",
   "execution_count": 26,
   "metadata": {},
   "outputs": [],
   "source": [
    "answers['11'] = 'Drama'"
   ]
  },
  {
   "cell_type": "code",
   "execution_count": 27,
   "metadata": {},
   "outputs": [
    {
     "name": "stdout",
     "output_type": "stream",
     "text": [
      "Drama 782\n"
     ]
    }
   ],
   "source": [
    "# формируем словарь для подсчета упомяняний жанров (альтeрнатива collection.Counter), пробегаемся по столбцу и считаем \n",
    "# кол-во вхождений жанров\n",
    "\n",
    "genres = {} # обнуляем список (для дебагинга)\n",
    "for genres_line in data['genres']: # цикл прохождения по значениям колонки\n",
    "    for genre in genres_line.split(\"|\"): # цикл прохождения по отдельным жанрам \n",
    "        if genre in genres: # если жанр уже присутсттвуем в словаре\n",
    "            genres[genre]=genres[genre]+1 # увеличиваем счетчик\n",
    "        else:  # иначе вводим новый жанр в словарь\n",
    "            genres[genre]=1\n",
    "\n",
    "print (list(genres.keys())[list(genres.values()).index(max(genres.values()))], max(genres.values())) # выводим результат"
   ]
  },
  {
   "cell_type": "markdown",
   "metadata": {
    "colab_type": "text",
    "id": "T9_bPWpkVp_Q"
   },
   "source": [
    "# 12. Фильмы какого жанра чаще всего становятся прибыльными? "
   ]
  },
  {
   "cell_type": "code",
   "execution_count": 28,
   "metadata": {},
   "outputs": [],
   "source": [
    "answers['12'] = 'Drama'"
   ]
  },
  {
   "cell_type": "code",
   "execution_count": 29,
   "metadata": {
    "colab": {},
    "colab_type": "code",
    "id": "Tmt8MaK1Vp_R"
   },
   "outputs": [
    {
     "name": "stdout",
     "output_type": "stream",
     "text": [
      "Drama 560\n"
     ]
    }
   ],
   "source": [
    "# фильтруем только прибульные фильмы, формируем словарь для подсчета упомяняний жанров \n",
    "#(альтeрнатива collection.Counter), пробегаемся по столбцу и счетаем кол-во вхождений жанров\n",
    "\n",
    "data2 = data[data['profit']>0] # формируем времменный датафрей с отфилтрованными прибыльными фильмами\n",
    "genres = {} # обнуляем список (для дебагинга)\n",
    "for genres_line in data2['genres']: # цикл прохождения по значениям колонки\n",
    "    for genre in genres_line.split(\"|\"): # цикл прохождения по отдельным жанрам \n",
    "        if genre in genres: # если жанр уже присутсттвуем в словаре\n",
    "            genres[genre]=genres[genre]+1 # увеличиваем счетчик\n",
    "        else:  # иначе вводим новый жанр в словарь\n",
    "            genres[genre]=1\n",
    "\n",
    "print (list(genres.keys())[list(genres.values()).index(max(genres.values()))], max(genres.values())) # выводим результат"
   ]
  },
  {
   "cell_type": "markdown",
   "metadata": {
    "colab_type": "text",
    "id": "0F23bgsDVp_U"
   },
   "source": [
    "# 13. У какого режиссера самые большие суммарные кассовые сборы?"
   ]
  },
  {
   "cell_type": "code",
   "execution_count": 30,
   "metadata": {},
   "outputs": [],
   "source": [
    "answers['13'] = 'Peter Jackson'"
   ]
  },
  {
   "cell_type": "code",
   "execution_count": 31,
   "metadata": {},
   "outputs": [
    {
     "name": "stdout",
     "output_type": "stream",
     "text": [
      "Peter Jackson 6490593685\n"
     ]
    }
   ],
   "source": [
    "# решение без знания explode: формируем ортедельный словарь с режисерами (ключ) и кол-вом упомянаний в фильмах (значение),\n",
    "#затем пробегаемся по нему и замeняем значения на сумму выручки отфильтрованных по вхождению имени режисера записей \n",
    "temp=data['director'] # создаем временный Series \n",
    "directors = {} # обнулям целевой словарь (для дебагинга)\n",
    "\n",
    "for item in temp: # цикл пробега по значениям столбца\n",
    "    for sub_item in item.split(\"|\"): # цикл пробега по отдельным режисерам\n",
    "        directors.setdefault(sub_item, 0) # устанавливаем значение по умолчанию\n",
    "        directors[sub_item]+=1 # увеличиваем счетчик (не обязательно)\n",
    "\n",
    "for key, value in directors.items(): # цикл пробега по созданному словарю\n",
    "    # фильтруем в основном датафрейме все записи по очередному режисеру, суммирую выручку\n",
    "    directors[key] = data[data['director'].str.contains(key)]['revenue'].sum() \n",
    "    \n",
    "# сортируем словарь по значениям по убыванию\n",
    "directors=sorted(directors.items(), key=lambda x: x[1], reverse=True)\n",
    "\n",
    "# выводим верхнюю позицию\n",
    "print (directors[0][0], directors[0][1])"
   ]
  },
  {
   "cell_type": "markdown",
   "metadata": {
    "colab_type": "text",
    "id": "PsYC9FgRVp_a"
   },
   "source": [
    "# 14. Какой режисер снял больше всего фильмов в стиле Action?"
   ]
  },
  {
   "cell_type": "code",
   "execution_count": 32,
   "metadata": {
    "colab": {},
    "colab_type": "code",
    "id": "wd2M-wHeVp_b"
   },
   "outputs": [],
   "source": [
    "answers['14'] = 'Robert Rodriguez'"
   ]
  },
  {
   "cell_type": "code",
   "execution_count": 33,
   "metadata": {},
   "outputs": [
    {
     "data": {
      "text/plain": [
       "'Robert Rodriguez'"
      ]
     },
     "execution_count": 33,
     "metadata": {},
     "output_type": "execute_result"
    }
   ],
   "source": [
    "# Не справился, подсмотрел у коллег.\n",
    "\n",
    "data2 = data[data[\"genres\"].str.contains(\"Action\")] # oтфильтровываем записи к тороых есть нужный жанр\n",
    "data2=data2['director'].str.cat(sep='|') # превращаем все в одну строку\n",
    "data2=pd.Series(data2.split('|')) # создаем Series разделяя строку по '|'\n",
    "data2.value_counts().index[0] # считаем количество элементов строке и выводим 'верхний' индекс\n"
   ]
  },
  {
   "cell_type": "markdown",
   "metadata": {
    "colab_type": "text",
    "id": "PQ0KciD7Vp_f"
   },
   "source": [
    "# 15. Фильмы с каким актером принесли самые высокие кассовые сборы в 2012 году? "
   ]
  },
  {
   "cell_type": "code",
   "execution_count": 34,
   "metadata": {},
   "outputs": [],
   "source": [
    "answers['15'] = 'Chris Hemsworth'"
   ]
  },
  {
   "cell_type": "code",
   "execution_count": 35,
   "metadata": {
    "colab": {},
    "colab_type": "code",
    "id": "aga62oeKVp_g"
   },
   "outputs": [
    {
     "data": {
      "text/plain": [
       "'Chris Hemsworth'"
      ]
     },
     "execution_count": 35,
     "metadata": {},
     "output_type": "execute_result"
    }
   ],
   "source": [
    "data2=data.copy() # делаем копию\n",
    "data2=data2[data2['release_year']==2012] # фильтруем фильмы с заданным годом выпуска\n",
    "data2['cast']=data2['cast'].str.split('|') # меняем значение колонки на список\n",
    "data2 = data2.explode('cast') # разбиваем таблицу по столбцу с актерами\n",
    "data2.groupby(['cast'])['revenue'].sum().sort_values(ascending = False).index[0] # групируем данные по столбцу актеры\n",
    "# суммируя вырочку, сортируем результат по убыванию, выводим нулевой индекс"
   ]
  },
  {
   "cell_type": "markdown",
   "metadata": {
    "colab_type": "text",
    "id": "mWHyyL7QVp_j"
   },
   "source": [
    "# 16. Какой актер снялся в большем количестве высокобюджетных фильмов?"
   ]
  },
  {
   "cell_type": "code",
   "execution_count": 36,
   "metadata": {},
   "outputs": [],
   "source": [
    "answers['16'] = 'Johnny Depp'"
   ]
  },
  {
   "cell_type": "code",
   "execution_count": 37,
   "metadata": {
    "colab": {},
    "colab_type": "code",
    "id": "qQtmHKTFVp_k"
   },
   "outputs": [
    {
     "data": {
      "text/plain": [
       "'Matt Damon'"
      ]
     },
     "execution_count": 37,
     "metadata": {},
     "output_type": "execute_result"
    }
   ],
   "source": [
    "data2=data.copy()# делаем копию\n",
    "data2=data2[data2['budget']>data2['budget'].mean()] # фильтруем фильмы с бюджетом выше среднего\n",
    "data2['cast']=data2['cast'].str.split('|')# меняем значение колонки на список\n",
    "data2=data2.explode('cast') # разбиваем таблицу по столбцу с актерами\n",
    "data2.groupby(['cast'])['imdb_id'].count().sort_values(ascending=False).index[0]# групируем данные по столбцу актеры\n",
    "# суммируя кол-во записей, сортируем результат по убыванию, выводим нулевой индекс"
   ]
  },
  {
   "cell_type": "markdown",
   "metadata": {
    "colab_type": "text",
    "id": "NIh6AaW5Vp_n"
   },
   "source": [
    "# 17. В фильмах какого жанра больше всего снимался Nicolas Cage? "
   ]
  },
  {
   "cell_type": "code",
   "execution_count": 38,
   "metadata": {},
   "outputs": [],
   "source": [
    "answers['17'] = 'Action'"
   ]
  },
  {
   "cell_type": "code",
   "execution_count": 39,
   "metadata": {
    "colab": {},
    "colab_type": "code",
    "id": "H74SJDIBVp_n"
   },
   "outputs": [
    {
     "data": {
      "text/plain": [
       "'Action'"
      ]
     },
     "execution_count": 39,
     "metadata": {},
     "output_type": "execute_result"
    }
   ],
   "source": [
    "data2=data[data['cast'].str.contains('Nicolas Cage')] # фильтруем фильмы с участием нужного актера\n",
    "data2 = data2['genres'].str.cat(sep='|') # превращаем все в одну строку\n",
    "pd.Series(data2.split(\"|\")).value_counts().index[0] # создаем Series разделяя строку по '|',\n",
    "# считаем количество элементов строке и выводим 'верхний' индекс\n"
   ]
  },
  {
   "cell_type": "markdown",
   "metadata": {
    "colab_type": "text",
    "id": "RqOmPRfWVp_q"
   },
   "source": [
    "# 18. Самый убыточный фильм от Paramount Pictures"
   ]
  },
  {
   "cell_type": "code",
   "execution_count": 40,
   "metadata": {},
   "outputs": [],
   "source": [
    "answers['18'] = 'K-19: The Widowmaker'"
   ]
  },
  {
   "cell_type": "code",
   "execution_count": 41,
   "metadata": {
    "colab": {},
    "colab_type": "code",
    "id": "9E_B0Y96Vp_r"
   },
   "outputs": [
    {
     "data": {
      "text/plain": [
       "'K-19: The Widowmaker'"
      ]
     },
     "execution_count": 41,
     "metadata": {},
     "output_type": "execute_result"
    }
   ],
   "source": [
    "# фильтруем фильмы от Paramount Pictures забирая нужные столбцы, сортируем по возрастанию по стобцу прибыли, \n",
    "# берем первый столбец верхний строки\n",
    "data[data['production_companies'].str.contains('Paramount Pictures')][['imdb_id', 'original_title', 'profit']].sort_values\\\n",
    "    ('profit', ascending=True).iloc[0,1]\n",
    "\n"
   ]
  },
  {
   "cell_type": "markdown",
   "metadata": {
    "colab_type": "text",
    "id": "vS8Ur6ddVp_u"
   },
   "source": [
    "# 19. Какой год стал самым успешным по суммарным кассовым сборам?"
   ]
  },
  {
   "cell_type": "code",
   "execution_count": 42,
   "metadata": {},
   "outputs": [],
   "source": [
    "answers['19'] = '2015'"
   ]
  },
  {
   "cell_type": "code",
   "execution_count": 43,
   "metadata": {
    "colab": {},
    "colab_type": "code",
    "id": "Dnbt4GdIVp_v"
   },
   "outputs": [
    {
     "data": {
      "text/plain": [
       "2015"
      ]
     },
     "execution_count": 43,
     "metadata": {},
     "output_type": "execute_result"
    }
   ],
   "source": [
    "# группируем данные по столбцу года выпуска сумируя вырочку, сортируем по вырочке по убыванию, берем верхний индекс\n",
    "data.groupby(['release_year'])['revenue'].sum().sort_values(ascending=False).index[0]"
   ]
  },
  {
   "cell_type": "markdown",
   "metadata": {
    "colab_type": "text",
    "id": "JAzJh4QAVp_z"
   },
   "source": [
    "# 20. Какой самый прибыльный год для студии Warner Bros?"
   ]
  },
  {
   "cell_type": "code",
   "execution_count": 44,
   "metadata": {},
   "outputs": [],
   "source": [
    "answers['20'] = '2014'"
   ]
  },
  {
   "cell_type": "code",
   "execution_count": 45,
   "metadata": {
    "colab": {},
    "colab_type": "code",
    "id": "wgVu02DEVp_0"
   },
   "outputs": [
    {
     "data": {
      "text/plain": [
       "2014"
      ]
     },
     "execution_count": 45,
     "metadata": {},
     "output_type": "execute_result"
    }
   ],
   "source": [
    "# фильтруем записи нужной компании, групируем результат по году выпуска суммируя выручку, сортируем по году, \n",
    "# берем верний индекс\n",
    "data[data['production_companies'].str.contains('Warner Bros')].groupby(['release_year'])['revenue'].sum().\\\n",
    "    sort_values(ascending=False).index[0]"
   ]
  },
  {
   "cell_type": "markdown",
   "metadata": {
    "colab_type": "text",
    "id": "8Im1S2HRVp_4"
   },
   "source": [
    "# 21. В каком месяце за все годы суммарно вышло больше всего фильмов?"
   ]
  },
  {
   "cell_type": "code",
   "execution_count": 46,
   "metadata": {},
   "outputs": [],
   "source": [
    "answers['21'] = 9"
   ]
  },
  {
   "cell_type": "code",
   "execution_count": 47,
   "metadata": {},
   "outputs": [
    {
     "data": {
      "text/plain": [
       "9"
      ]
     },
     "execution_count": 47,
     "metadata": {},
     "output_type": "execute_result"
    }
   ],
   "source": [
    "data2=data.copy() # делаем копию\n",
    "data2['month'] = data['release_date'].apply(lambda x: int(x[:x.find(\"/\")])) # вычлениям месяц выпуска и формируем новый столбец\n",
    "data2['month'].value_counts().sort_values(ascending = False).index[0] # суммируем вхождения, сортируем по кол-ву вхождений, \n",
    "#берем верхнее значение\n"
   ]
  },
  {
   "cell_type": "markdown",
   "metadata": {
    "colab_type": "text",
    "id": "uAJsZ_NeVp_7"
   },
   "source": [
    "# 22. Сколько суммарно вышло фильмов летом? (за июнь, июль, август)"
   ]
  },
  {
   "cell_type": "code",
   "execution_count": 48,
   "metadata": {},
   "outputs": [],
   "source": [
    "answers['22'] = 450"
   ]
  },
  {
   "cell_type": "code",
   "execution_count": 49,
   "metadata": {
    "colab": {},
    "colab_type": "code",
    "id": "Aa-hEREoVp_8"
   },
   "outputs": [
    {
     "data": {
      "text/plain": [
       "450"
      ]
     },
     "execution_count": 49,
     "metadata": {},
     "output_type": "execute_result"
    }
   ],
   "source": [
    "data2=data.copy() # делаем копию\n",
    "data2['month'] = data['release_date'].apply(lambda x: int(x[:x.find(\"/\")])) # вычлениям месяц выпуска и формируем новый столбец\n",
    "len(data2[(data2['month']>5)&(data2['month']<9)]) # фильтруем летние месяцы и считаем кол-во строк"
   ]
  },
  {
   "cell_type": "markdown",
   "metadata": {
    "colab_type": "text",
    "id": "G94ppOY1VqAA"
   },
   "source": [
    "# 23. Для какого режиссера зима – самое продуктивное время года? "
   ]
  },
  {
   "cell_type": "code",
   "execution_count": 50,
   "metadata": {},
   "outputs": [],
   "source": [
    "answers['23'] = 'Peter Jackson'"
   ]
  },
  {
   "cell_type": "code",
   "execution_count": 51,
   "metadata": {
    "colab": {},
    "colab_type": "code",
    "id": "RhNTsamuVqAB"
   },
   "outputs": [
    {
     "data": {
      "text/plain": [
       "'Peter Jackson'"
      ]
     },
     "execution_count": 51,
     "metadata": {},
     "output_type": "execute_result"
    }
   ],
   "source": [
    "data2=data.copy() # делаем копию\n",
    "data2['month'] = data['release_date'].apply(lambda x: int(x[:x.find(\"/\")])) # вычлениям месяц выпуска и формируем новый столбец\n",
    "data2= data2[(data2['month']<3) | (data2['month']==12)] # фильтруем зимние месяцы и считаем кол-во строк\n",
    "data2['director'] = data2['director'].str.split('|')# меняем значение колонки на список\n",
    "data2 = data2.explode('director') # разбиваем таблицу по столбцу с режисерами\n",
    "data2['director'].value_counts().index[0] # сумируем число записей по столбцу режисеров, и выводим наибольший индекс\n"
   ]
  },
  {
   "cell_type": "markdown",
   "metadata": {
    "colab_type": "text",
    "id": "RBo0JVjVVqAF"
   },
   "source": [
    "# 24. Какая студия дает самые длинные названия своим фильмам по количеству символов?"
   ]
  },
  {
   "cell_type": "code",
   "execution_count": 52,
   "metadata": {},
   "outputs": [],
   "source": [
    "answers['24'] = 'Four By Two Productions'"
   ]
  },
  {
   "cell_type": "code",
   "execution_count": 53,
   "metadata": {
    "colab": {},
    "colab_type": "code",
    "id": "QRGS8L0iVqAG"
   },
   "outputs": [
    {
     "data": {
      "text/plain": [
       "'Four By Two Productions'"
      ]
     },
     "execution_count": 53,
     "metadata": {},
     "output_type": "execute_result"
    }
   ],
   "source": [
    "data2=data.copy() # делаем копию\n",
    "data2['title_length'] = data2['original_title'].apply(lambda x: len(x))  # создаем колонку с длительностью фильмов\n",
    "data2['production_companies'] = data2['production_companies'].str.split(\"|\") # меняем значение колонки на список\n",
    "data2=data2.explode(\"production_companies\") # разбиваем таблицу по столбцу с компаниями\n",
    "data2.groupby('production_companies')['title_length'].agg(['sum', 'mean', 'max']).sort_values\\\n",
    "    ('mean', ascending = False).index[0]\n"
   ]
  },
  {
   "cell_type": "markdown",
   "metadata": {
    "colab_type": "text",
    "id": "9G0hbvR7VqAK"
   },
   "source": [
    "# 25. Описание фильмов какой студии в среднем самые длинные по количеству слов?"
   ]
  },
  {
   "cell_type": "code",
   "execution_count": 54,
   "metadata": {},
   "outputs": [],
   "source": [
    "answers['25'] = 'Midnight Picture Show'"
   ]
  },
  {
   "cell_type": "code",
   "execution_count": 55,
   "metadata": {
    "colab": {},
    "colab_type": "code",
    "id": "Ge2GsLNxVqAK"
   },
   "outputs": [
    {
     "data": {
      "text/plain": [
       "'Midnight Picture Show'"
      ]
     },
     "execution_count": 55,
     "metadata": {},
     "output_type": "execute_result"
    }
   ],
   "source": [
    "data2=data.copy(deep=True) # делаем копию\n",
    "\n",
    "data2['title_length'] = data2['overview'].apply(lambda x: len(x.split())) # создаем колонку с кол-вом слов в описании\n",
    "\n",
    "data2['production_companies'] = data2['production_companies'].str.split('|') # меняем значение колонки на список\n",
    "data2=data2.explode('production_companies') # разбиваем таблицу по столбцу с компаниями\n",
    "data2.groupby('production_companies')['title_length'].agg(['max', 'mean','sum']).sort_values(\"mean\", ascending = False).index[0]\n"
   ]
  },
  {
   "cell_type": "markdown",
   "metadata": {
    "colab_type": "text",
    "id": "FJ1AFt90VqAP"
   },
   "source": [
    "# 26. Какие фильмы входят в 1 процент лучших по рейтингу? \n"
   ]
  },
  {
   "cell_type": "code",
   "execution_count": 56,
   "metadata": {},
   "outputs": [],
   "source": [
    "answers['26'] = 'Inside Out, The Dark Knight, 12 Years a Slave'"
   ]
  },
  {
   "cell_type": "code",
   "execution_count": 57,
   "metadata": {
    "colab": {},
    "colab_type": "code",
    "id": "8qmJVq4CVqAQ"
   },
   "outputs": [
    {
     "data": {
      "text/plain": [
       "599                                   The Dark Knight\n",
       "118                                      Interstellar\n",
       "125                                The Imitation Game\n",
       "9                                          Inside Out\n",
       "34                                               Room\n",
       "1183                          The Wolf of Wall Street\n",
       "128                                         Gone Girl\n",
       "1191                                 12 Years a Slave\n",
       "119                           Guardians of the Galaxy\n",
       "1081    The Lord of the Rings: The Return of the King\n",
       "1800                                          Memento\n",
       "370                                         Inception\n",
       "872                                       The Pianist\n",
       "138                          The Grand Budapest Hotel\n",
       "1188                                              Her\n",
       "28                                          Spotlight\n",
       "124                                        Big Hero 6\n",
       "177                            The Fault in Our Stars\n",
       "863             The Lord of the Rings: The Two Towers\n",
       "Name: original_title, dtype: object"
      ]
     },
     "execution_count": 57,
     "metadata": {},
     "output_type": "execute_result"
    }
   ],
   "source": [
    "# выводим топ 19 фильмов, ищем в ответаь. Дурацкое, плохо сформучлированное с неоднозначным ответом (без ответа - неправерить) задание.\n",
    "data.sort_values('vote_average', ascending = False)['original_title'].head(19)"
   ]
  },
  {
   "cell_type": "markdown",
   "metadata": {
    "colab_type": "text",
    "id": "MdXsUXbCVqAV"
   },
   "source": [
    "# 27. Какие актеры чаще всего снимаются в одном фильме вместе?\n"
   ]
  },
  {
   "cell_type": "code",
   "execution_count": 58,
   "metadata": {
    "colab_type": "text",
    "id": "4ymnxEVoVqAW"
   },
   "outputs": [],
   "source": [
    "answers['27'] = 'Daniel Radcliffe|Rupert Grint'"
   ]
  },
  {
   "cell_type": "code",
   "execution_count": 59,
   "metadata": {},
   "outputs": [
    {
     "data": {
      "text/plain": [
       "'Daniel Radcliffe|Rupert Grint'"
      ]
     },
     "execution_count": 59,
     "metadata": {},
     "output_type": "execute_result"
    }
   ],
   "source": [
    "# сам не справился - подсмотрел подход у коллег \n",
    "mydict={} # создаем/обнуляем временный словарь\n",
    "mydict=Counter() # словарь для подсчета значений\n",
    "data2=data.copy(deep=True) # делаем копию\n",
    "\n",
    "data2['cast']=data2['cast'].str.split(\"|\") # формируем спискок из строки с актерами\n",
    "\n",
    "for item in range (0, len(data2)): # цикл пробега по датафрейму\n",
    "    mylist = pd.Series(data2.iloc[item]['cast']) # временный Series с отдельными актерами в текушей строке\n",
    "    for actors in itertools.combinations(data2.iloc[item]['cast'], 2): # цикл пробега по временному Series\n",
    "        tag=actors[0]+\"|\"+actors[1] # формируем строку которая будет использоваться как ключ для словаря с результатми\n",
    "        if tag not in mydict: mydict[tag]=1 # если в словаре нет записи с таким ключом - она создается\n",
    "        else: mydict[tag]=mydict[tag]+1 # если в словаре есть такая запись - счетким ее увеличивается на один\n",
    "sorted(mydict.items(), key=lambda x: x[1], reverse= True) [0][0] #сортируем словарь по значению, по уменьшению, выводим верхний элемент\n",
    "\n"
   ]
  },
  {
   "cell_type": "markdown",
   "metadata": {
    "colab_type": "text",
    "id": "U0nONFnGVqAX"
   },
   "source": [
    "# Submission"
   ]
  },
  {
   "cell_type": "code",
   "execution_count": 61,
   "metadata": {
    "colab": {},
    "colab_type": "code",
    "id": "IfcaRO9-VqAX",
    "outputId": "0f132912-32bb-4196-c98c-abfbc4ad5a5f"
   },
   "outputs": [
    {
     "data": {
      "text/plain": [
       "{'1': 'Pirates of the Caribbean: On Stranger Tides  (tt1298650)',\n",
       " '2': 'Gods and Generals  (tt0279111)',\n",
       " '3': 'Winnie the Pooh  (tt1449283)',\n",
       " '4': 109.6585494970884,\n",
       " '5': 107.0,\n",
       " '6': 'Avatar (tt0499549)',\n",
       " '7': 'The Lone Ranger (tt1210819)',\n",
       " '8': 1478,\n",
       " '9': 'The Dark Knight  (tt0468569)',\n",
       " '10': 'The Lone Ranger  (tt1210819)',\n",
       " '11': 'Drama',\n",
       " '12': 'Drama',\n",
       " '13': 'Peter Jackson',\n",
       " '14': 'Robert Rodriguez',\n",
       " '15': 'Chris Hemsworth',\n",
       " '16': 'Johnny Depp',\n",
       " '17': 'Action',\n",
       " '18': 'K-19: The Widowmaker',\n",
       " '19': '2015',\n",
       " '20': '2014',\n",
       " '21': 9,\n",
       " '22': 450,\n",
       " '23': 'Peter Jackson',\n",
       " '24': 'Four By Two Productions',\n",
       " '25': 'Midnight Picture Show',\n",
       " '26': 'Inside Out, The Dark Knight, 12 Years a Slave',\n",
       " '27': 'Daniel Radcliffe|Rupert Grint'}"
      ]
     },
     "execution_count": 61,
     "metadata": {},
     "output_type": "execute_result"
    }
   ],
   "source": [
    "# в конце можно посмотреть свои ответы к каждому вопросу\n",
    "answers"
   ]
  },
  {
   "cell_type": "code",
   "execution_count": 62,
   "metadata": {
    "colab": {},
    "colab_type": "code",
    "id": "SiRmHPl8VqAd"
   },
   "outputs": [
    {
     "data": {
      "text/plain": [
       "27"
      ]
     },
     "execution_count": 62,
     "metadata": {},
     "output_type": "execute_result"
    }
   ],
   "source": [
    "# и убедиться что ни чего не пропустил)\n",
    "len(answers)"
   ]
  }
 ],
 "metadata": {
  "colab": {
   "name": "Copy of [SF-DST] Movies IMBD v4.1 TEMPLATE.ipynb",
   "provenance": []
  },
  "kernelspec": {
   "display_name": "Python 3",
   "language": "python",
   "name": "python3"
  },
  "language_info": {
   "codemirror_mode": {
    "name": "ipython",
    "version": 3
   },
   "file_extension": ".py",
   "mimetype": "text/x-python",
   "name": "python",
   "nbconvert_exporter": "python",
   "pygments_lexer": "ipython3",
   "version": "3.8.8"
  }
 },
 "nbformat": 4,
 "nbformat_minor": 1
}
